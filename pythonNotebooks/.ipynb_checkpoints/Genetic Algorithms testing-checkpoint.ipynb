{
 "cells": [
  {
   "cell_type": "markdown",
   "metadata": {},
   "source": [
    "# Example of GA using DEAP"
   ]
  },
  {
   "cell_type": "markdown",
   "metadata": {},
   "source": [
    "Here i will try to understand how deap works. The task is a regressor, done with a tree that encodes a function."
   ]
  },
  {
   "cell_type": "code",
   "execution_count": 1,
   "metadata": {},
   "outputs": [],
   "source": [
    "from deap import algorithms, base, creator, tools, gp\n",
    "import operator, random\n",
    "import numpy as np"
   ]
  },
  {
   "cell_type": "markdown",
   "metadata": {},
   "source": [
    "Individual and fitness creatio, the weight is -1 because is a minimization problem. Remeber the tuple!"
   ]
  },
  {
   "cell_type": "code",
   "execution_count": 2,
   "metadata": {},
   "outputs": [],
   "source": [
    "creator.create(\"FitnessMin\", base.Fitness, weights=(-1.0,))\n",
    "creator.create(\"Individual\", gp.PrimitiveTree, fitness=creator.FitnessMin)"
   ]
  },
  {
   "cell_type": "markdown",
   "metadata": {},
   "source": [
    "Creation of a primitive set from which the tree will be generated."
   ]
  },
  {
   "cell_type": "code",
   "execution_count": 3,
   "metadata": {},
   "outputs": [],
   "source": [
    "pset = gp.PrimitiveSet(\"MAIN\", arity=1)\n",
    "pset.addPrimitive(operator.add, arity=2 )\n",
    "pset.addPrimitive(operator.sub, arity=2)\n",
    "pset.addPrimitive(operator.mul, arity=2)\n",
    "pset.addEphemeralConstant(\"const\", lambda: random.uniform(-1, 1))\n",
    "pset.renameArguments(ARG0=\"x\")"
   ]
  },
  {
   "cell_type": "markdown",
   "metadata": {},
   "source": [
    "Functions that tell how to create an invividual. genTree creates a tree with objects from the pset, individual sets the tree to the individualusing gentTree, and population rebeats the creation of the individual in a list, in order to create a population."
   ]
  },
  {
   "cell_type": "code",
   "execution_count": 4,
   "metadata": {},
   "outputs": [],
   "source": [
    "toolbox = base.Toolbox()\n",
    "toolbox.register(\"genTree\", gp.genFull, pset = pset, min_= 1, max_= 4)\n",
    "toolbox.register(\"individual\", tools.initIterate, creator.Individual, toolbox.genTree)\n",
    "toolbox.register(\"population\", tools.initRepeat, list, toolbox.individual)"
   ]
  },
  {
   "cell_type": "markdown",
   "metadata": {},
   "source": [
    "Function used for evaluation"
   ]
  },
  {
   "cell_type": "code",
   "execution_count": 5,
   "metadata": {},
   "outputs": [],
   "source": [
    "def evaluate(individual, pset, points):\n",
    "    function = gp.compile(expr=individual, pset=pset)\n",
    "    MSE = np.array([ function(x) - misteriousFunction(x)  for x in points])**2\n",
    "    return np.sum(MSE), \n",
    "    \n",
    "def misteriousFunction(x):\n",
    "    return x**3 -x**2 + x -5"
   ]
  },
  {
   "cell_type": "markdown",
   "metadata": {},
   "source": [
    "evaluate registers the function used to calculate the fitness. I suspect that these names are standard and have to be used if using a pre-made alg. Mate does a one point crossover, the mutation adds a tree to a node with uniform probability, select selects the individuals for mating."
   ]
  },
  {
   "cell_type": "code",
   "execution_count": 6,
   "metadata": {},
   "outputs": [],
   "source": [
    "toolbox.register(\"evaluate\", evaluate, points=[x/10. for x in range(-10, 10)], pset=pset)\n",
    "toolbox.register(\"mate\", gp.cxOnePoint)\n",
    "toolbox.register(\"expr_mut\", gp.genFull, pset=pset, min_=0,max_= 2)\n",
    "toolbox.register(\"mutate\", gp.mutUniform, expr=toolbox.expr_mut, pset=pset)\n",
    "toolbox.register(\"select\", tools.selTournament, tournsize=3)"
   ]
  },
  {
   "cell_type": "markdown",
   "metadata": {},
   "source": [
    "Fixes the height of the tree, very important"
   ]
  },
  {
   "cell_type": "code",
   "execution_count": 7,
   "metadata": {},
   "outputs": [],
   "source": [
    "toolbox.decorate(\"mate\", gp.staticLimit(key=operator.attrgetter(\"height\"), max_value=17))\n",
    "toolbox.decorate(\"mutate\", gp.staticLimit(key=operator.attrgetter(\"height\"), max_value=17))"
   ]
  },
  {
   "cell_type": "markdown",
   "metadata": {},
   "source": [
    "Allows multiprocessing, much much faster."
   ]
  },
  {
   "cell_type": "code",
   "execution_count": 11,
   "metadata": {},
   "outputs": [],
   "source": [
    "import multiprocessing\n",
    "\n",
    "pool = multiprocessing.Pool()\n",
    "toolbox.register(\"map\", pool.map)"
   ]
  },
  {
   "cell_type": "markdown",
   "metadata": {},
   "source": [
    "Stats module, logged in the loggbook, which will pretty print the stats"
   ]
  },
  {
   "cell_type": "code",
   "execution_count": 9,
   "metadata": {},
   "outputs": [],
   "source": [
    "stats = tools.Statistics(key=operator.attrgetter(\"fitness.values\"))\n",
    "stats.register(\"max\", np.max)\n",
    "stats.register(\"mean\", np.mean)\n",
    "stats.register(\"min\", np.min)\n"
   ]
  },
  {
   "cell_type": "code",
   "execution_count": 15,
   "metadata": {
    "scrolled": true
   },
   "outputs": [
    {
     "name": "stdout",
     "output_type": "stream",
     "text": [
      "42.903300285339355\n"
     ]
    }
   ],
   "source": [
    "import time\n",
    "pop = toolbox.population(n=100)\n",
    "start = time.time()\n",
    "pop, logbook =algorithms.eaSimple(pop, toolbox, cxpb=0.5, mutpb=0.2, ngen=2000, verbose=False)\n",
    "end = time.time()\n",
    "print(end-start)"
   ]
  },
  {
   "cell_type": "code",
   "execution_count": null,
   "metadata": {},
   "outputs": [],
   "source": []
  },
  {
   "cell_type": "code",
   "execution_count": null,
   "metadata": {},
   "outputs": [],
   "source": []
  }
 ],
 "metadata": {
  "kernelspec": {
   "display_name": "Python 3",
   "language": "python",
   "name": "python3"
  },
  "language_info": {
   "codemirror_mode": {
    "name": "ipython",
    "version": 3
   },
   "file_extension": ".py",
   "mimetype": "text/x-python",
   "name": "python",
   "nbconvert_exporter": "python",
   "pygments_lexer": "ipython3",
   "version": "3.8.5"
  }
 },
 "nbformat": 4,
 "nbformat_minor": 4
}
